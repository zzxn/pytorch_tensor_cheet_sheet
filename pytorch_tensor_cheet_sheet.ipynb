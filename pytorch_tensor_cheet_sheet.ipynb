{
 "cells": [
  {
   "cell_type": "markdown",
   "metadata": {},
   "source": [
    "# PyTorch Tensor Cheat Sheet"
   ]
  },
  {
   "cell_type": "markdown",
   "metadata": {},
   "source": [
    "## 创建Tensor"
   ]
  },
  {
   "cell_type": "code",
   "execution_count": 13,
   "metadata": {},
   "outputs": [],
   "source": [
    "import torch\n",
    "\n",
    "# TODO: create tensor"
   ]
  },
  {
   "cell_type": "markdown",
   "metadata": {},
   "source": [
    "## 改变形状"
   ]
  },
  {
   "cell_type": "code",
   "execution_count": null,
   "metadata": {},
   "outputs": [],
   "source": []
  },
  {
   "cell_type": "markdown",
   "metadata": {},
   "source": [
    "## 广播机制\n",
    "\n",
    "许多PyTorch操作支持Numpy的[广播语义](https://numpy.org/doc/stable/user/basics.broadcasting.html)\n",
    "\n",
    "广播就是对于两个形状不同的tensor，把一个tensor的某些维度自动地扩展/广播，使得两个tensor的形状相同，避免了不必要的复制。\n",
    "\n",
    "上面的定义暗示了不是任何两个tensor都可以进行广播，它们的形状必须是兼容的，或者说**可广播的**（boradcastable）。\n",
    "\n",
    "当满足下面条件时，两个tensor是可广播的：\n",
    "\n",
    "* 每个tensor都至少有1个维度（及形状都不能是`(0, )`）\n",
    "* 从最后一个维度开始往前进行比较，两个维度必须是相等的，或者其中一个为1，或者其中一个不存在\n",
    "\n",
    "下面是一些例子："
   ]
  },
  {
   "cell_type": "code",
   "execution_count": 14,
   "metadata": {},
   "outputs": [
    {
     "data": {
      "text/plain": [
       "torch.Size([5, 3, 4, 1])"
      ]
     },
     "execution_count": 14,
     "metadata": {},
     "output_type": "execute_result"
    }
   ],
   "source": [
    "a = torch.randn(5, 3, 4, 1)\n",
    "b = torch.randn(   3, 1, 1)\n",
    "(a + b).shape  # of shape (5, 3, 4, 1)"
   ]
  },
  {
   "cell_type": "code",
   "execution_count": 15,
   "metadata": {},
   "outputs": [
    {
     "data": {
      "text/plain": [
       "torch.Size([5, 3, 4, 2])"
      ]
     },
     "execution_count": 15,
     "metadata": {},
     "output_type": "execute_result"
    }
   ],
   "source": [
    "a = torch.randn(5, 3, 1, 2)\n",
    "b = torch.randn(5, 1, 4, 2)\n",
    "(a + b).shape  # of shape (5, 3, 4, 1)"
   ]
  },
  {
   "cell_type": "code",
   "execution_count": 18,
   "metadata": {},
   "outputs": [
    {
     "ename": "RuntimeError",
     "evalue": "The size of tensor a (3) must match the size of tensor b (2) at non-singleton dimension 1",
     "output_type": "error",
     "traceback": [
      "\u001b[1;31m---------------------------------------------------------------------------\u001b[0m",
      "\u001b[1;31mRuntimeError\u001b[0m                              Traceback (most recent call last)",
      "\u001b[1;32m<ipython-input-18-0fe901b5db78>\u001b[0m in \u001b[0;36m<module>\u001b[1;34m\u001b[0m\n\u001b[0;32m      1\u001b[0m \u001b[0ma\u001b[0m \u001b[1;33m=\u001b[0m \u001b[0mtorch\u001b[0m\u001b[1;33m.\u001b[0m\u001b[0mrandn\u001b[0m\u001b[1;33m(\u001b[0m\u001b[1;36m5\u001b[0m\u001b[1;33m,\u001b[0m \u001b[1;36m3\u001b[0m\u001b[1;33m,\u001b[0m \u001b[1;36m1\u001b[0m\u001b[1;33m,\u001b[0m \u001b[1;36m2\u001b[0m\u001b[1;33m)\u001b[0m\u001b[1;33m\u001b[0m\u001b[1;33m\u001b[0m\u001b[0m\n\u001b[0;32m      2\u001b[0m \u001b[0mb\u001b[0m \u001b[1;33m=\u001b[0m \u001b[0mtorch\u001b[0m\u001b[1;33m.\u001b[0m\u001b[0mrandn\u001b[0m\u001b[1;33m(\u001b[0m\u001b[1;36m5\u001b[0m\u001b[1;33m,\u001b[0m \u001b[1;36m2\u001b[0m\u001b[1;33m,\u001b[0m \u001b[1;36m4\u001b[0m\u001b[1;33m,\u001b[0m \u001b[1;36m2\u001b[0m\u001b[1;33m)\u001b[0m\u001b[1;33m\u001b[0m\u001b[1;33m\u001b[0m\u001b[0m\n\u001b[1;32m----> 3\u001b[1;33m \u001b[1;33m(\u001b[0m\u001b[0ma\u001b[0m \u001b[1;33m+\u001b[0m \u001b[0mb\u001b[0m\u001b[1;33m)\u001b[0m\u001b[1;33m.\u001b[0m\u001b[0mshape\u001b[0m  \u001b[1;31m# 错误：第二个维度不可进行广播\u001b[0m\u001b[1;33m\u001b[0m\u001b[1;33m\u001b[0m\u001b[0m\n\u001b[0m",
      "\u001b[1;31mRuntimeError\u001b[0m: The size of tensor a (3) must match the size of tensor b (2) at non-singleton dimension 1"
     ]
    }
   ],
   "source": [
    "a = torch.randn(5, 3, 1, 2)\n",
    "b = torch.randn(5, 2, 4, 2)\n",
    "(a + b).shape  # 错误：第二个维度不可进行广播"
   ]
  },
  {
   "cell_type": "markdown",
   "metadata": {},
   "source": [
    " 注意广播后的结果有可能不同于原来的任何一个矩阵，而in-place操作（例如`Tensor.add_`等末尾带`_`的函数，或者它的等价形式`a += b`）不允许改变原有tensor的形状，这样的话一些in-place的操作有可能出发`RuntimeError`"
   ]
  },
  {
   "cell_type": "code",
   "execution_count": 24,
   "metadata": {},
   "outputs": [
    {
     "ename": "RuntimeError",
     "evalue": "output with shape [3, 1, 4] doesn't match the broadcast shape [3, 5, 4]",
     "output_type": "error",
     "traceback": [
      "\u001b[1;31m---------------------------------------------------------------------------\u001b[0m",
      "\u001b[1;31mRuntimeError\u001b[0m                              Traceback (most recent call last)",
      "\u001b[1;32m<ipython-input-24-24376dee9889>\u001b[0m in \u001b[0;36m<module>\u001b[1;34m\u001b[0m\n\u001b[0;32m      1\u001b[0m \u001b[0ma\u001b[0m \u001b[1;33m=\u001b[0m \u001b[0mtorch\u001b[0m\u001b[1;33m.\u001b[0m\u001b[0mrandn\u001b[0m\u001b[1;33m(\u001b[0m\u001b[1;36m3\u001b[0m\u001b[1;33m,\u001b[0m \u001b[1;36m1\u001b[0m\u001b[1;33m,\u001b[0m \u001b[1;36m4\u001b[0m\u001b[1;33m)\u001b[0m\u001b[1;33m\u001b[0m\u001b[1;33m\u001b[0m\u001b[0m\n\u001b[0;32m      2\u001b[0m \u001b[0mb\u001b[0m \u001b[1;33m=\u001b[0m \u001b[0mtorch\u001b[0m\u001b[1;33m.\u001b[0m\u001b[0mrandn\u001b[0m\u001b[1;33m(\u001b[0m\u001b[1;36m3\u001b[0m\u001b[1;33m,\u001b[0m \u001b[1;36m5\u001b[0m\u001b[1;33m,\u001b[0m \u001b[1;36m1\u001b[0m\u001b[1;33m)\u001b[0m\u001b[1;33m\u001b[0m\u001b[1;33m\u001b[0m\u001b[0m\n\u001b[1;32m----> 3\u001b[1;33m \u001b[0ma\u001b[0m \u001b[1;33m+=\u001b[0m \u001b[0mb\u001b[0m  \u001b[1;31m# RuntimeError\u001b[0m\u001b[1;33m\u001b[0m\u001b[1;33m\u001b[0m\u001b[0m\n\u001b[0m",
      "\u001b[1;31mRuntimeError\u001b[0m: output with shape [3, 1, 4] doesn't match the broadcast shape [3, 5, 4]"
     ]
    }
   ],
   "source": [
    "a = torch.randn(3, 1, 4)\n",
    "b = torch.randn(3, 5, 1)\n",
    "a += b  # RuntimeError"
   ]
  },
  {
   "cell_type": "markdown",
   "metadata": {},
   "source": [
    "在老版本的PyTorch中，一些逐点（pointwise）操作只要求两个tensor的元素个数一样，然后把两个tensor视作一维后逐点操作，而在引入广播语义后，这些操作会对两个tensor做广播，这可能导致一些向后兼容性问题。"
   ]
  },
  {
   "cell_type": "code",
   "execution_count": 29,
   "metadata": {},
   "outputs": [
    {
     "data": {
      "text/plain": [
       "torch.Size([4, 4])"
      ]
     },
     "execution_count": 29,
     "metadata": {},
     "output_type": "execute_result"
    }
   ],
   "source": [
    "a = torch.randn(4, 1)\n",
    "b = torch.randn(   4)\n",
    "(a + b).shape  # result is of shape(4, 1) in prior versions"
   ]
  },
  {
   "cell_type": "markdown",
   "metadata": {},
   "source": [
    "## 加法和乘法"
   ]
  },
  {
   "cell_type": "markdown",
   "metadata": {},
   "source": [
    "### `torch.mul`和`__mul__`\n",
    "\n",
    "`torch.mul(input, other, *, out=None)`\n",
    "\n",
    "当进行诸如`a + b`，`a`\n"
   ]
  },
  {
   "cell_type": "code",
   "execution_count": 5,
   "metadata": {
    "scrolled": true
   },
   "outputs": [
    {
     "name": "stdout",
     "output_type": "stream",
     "text": [
      "tensor([[-0.4034, -0.5670,  0.7556],\n",
      "        [ 2.0752, -0.7757, -0.8097],\n",
      "        [-1.5358, -0.6654,  0.1280]])\n",
      "tensor([[-1.4275, -1.4594,  0.6846],\n",
      "        [-0.4586, -0.8079, -0.8288],\n",
      "        [ 0.0135,  0.1691,  3.1267]])\n",
      "tensor([[ 0.5759,  0.8274,  0.5172],\n",
      "        [-0.9518,  0.6267,  0.6711],\n",
      "        [-0.0208, -0.1125,  0.4003]])\n"
     ]
    }
   ],
   "source": [
    "import torch\n",
    "\n",
    "# __mul__, torch.mul, torch.multiply, torch.mm, torch.matmul, torch.bmm, torch.dot\n",
    "\n",
    "# __mul__, torch.mul\n",
    "\n",
    "a = torch.randn(3, 3)\n",
    "print(a)\n",
    "\n",
    "b = torch.randn(3, 3)\n",
    "print(b)\n",
    "\n",
    "c = a * b\n",
    "\n",
    "a[0][0] * b[0][0]\n",
    "\n",
    "print(c)"
   ]
  },
  {
   "cell_type": "code",
   "execution_count": null,
   "metadata": {},
   "outputs": [],
   "source": []
  },
  {
   "cell_type": "markdown",
   "metadata": {},
   "source": [
    "## 其他常用操作"
   ]
  },
  {
   "cell_type": "code",
   "execution_count": null,
   "metadata": {},
   "outputs": [],
   "source": []
  }
 ],
 "metadata": {
  "kernelspec": {
   "display_name": "Python 3",
   "language": "python",
   "name": "python3"
  },
  "language_info": {
   "codemirror_mode": {
    "name": "ipython",
    "version": 3
   },
   "file_extension": ".py",
   "mimetype": "text/x-python",
   "name": "python",
   "nbconvert_exporter": "python",
   "pygments_lexer": "ipython3",
   "version": "3.7.4"
  }
 },
 "nbformat": 4,
 "nbformat_minor": 2
}
